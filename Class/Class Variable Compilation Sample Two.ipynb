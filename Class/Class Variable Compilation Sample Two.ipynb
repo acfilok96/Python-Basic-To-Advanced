{
 "cells": [
  {
   "cell_type": "code",
   "execution_count": 14,
   "id": "ae7abb13",
   "metadata": {},
   "outputs": [],
   "source": [
    "class MyClass:\n",
    "    var = 0\n",
    "    def __init__(self, a, b):\n",
    "        self.a = a\n",
    "        self.b = b\n",
    "        \n",
    "        MyClass.var = MyClass.var + 1\n",
    "        \n",
    "    def showDetails(self):\n",
    "        return f\"The current value is {self.var}\""
   ]
  },
  {
   "cell_type": "code",
   "execution_count": 15,
   "id": "faa32489",
   "metadata": {},
   "outputs": [
    {
     "name": "stdout",
     "output_type": "stream",
     "text": [
      "The current value is 1\n"
     ]
    }
   ],
   "source": [
    "my_class_one = MyClass(2,3)\n",
    "print(my_class_one.showDetails())"
   ]
  },
  {
   "cell_type": "code",
   "execution_count": 16,
   "id": "69785da1",
   "metadata": {},
   "outputs": [
    {
     "name": "stdout",
     "output_type": "stream",
     "text": [
      "The current value is 2\n"
     ]
    }
   ],
   "source": [
    "my_class_one = MyClass(2,3)\n",
    "print(my_class_one.showDetails())"
   ]
  },
  {
   "cell_type": "code",
   "execution_count": 17,
   "id": "172f0598",
   "metadata": {},
   "outputs": [
    {
     "name": "stdout",
     "output_type": "stream",
     "text": [
      "The current value is 3\n",
      "The current value is 4\n",
      "The current value is 5\n",
      "The current value is 6\n",
      "The current value is 7\n",
      "The current value is 8\n",
      "The current value is 9\n",
      "The current value is 10\n",
      "The current value is 11\n"
     ]
    }
   ],
   "source": [
    "for _ in range(9):\n",
    "    my_class_two = MyClass(2,39)\n",
    "    print(my_class_two.showDetails())"
   ]
  },
  {
   "cell_type": "code",
   "execution_count": null,
   "id": "34eca3c9",
   "metadata": {},
   "outputs": [],
   "source": []
  }
 ],
 "metadata": {
  "kernelspec": {
   "display_name": "Python 3 (ipykernel)",
   "language": "python",
   "name": "python3"
  },
  "language_info": {
   "codemirror_mode": {
    "name": "ipython",
    "version": 3
   },
   "file_extension": ".py",
   "mimetype": "text/x-python",
   "name": "python",
   "nbconvert_exporter": "python",
   "pygments_lexer": "ipython3",
   "version": "3.9.12"
  }
 },
 "nbformat": 4,
 "nbformat_minor": 5
}
