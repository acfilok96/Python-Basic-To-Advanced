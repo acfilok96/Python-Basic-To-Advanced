{
 "cells": [
  {
   "cell_type": "code",
   "execution_count": 17,
   "id": "b7faa5cf",
   "metadata": {},
   "outputs": [
    {
     "name": "stdout",
     "output_type": "stream",
     "text": [
      "The base price is 1000000.0\n",
      "The base price is 1000400.0\n",
      "The base price is 1000400.0\n"
     ]
    }
   ],
   "source": [
    "class Car:\n",
    "    base_price = 1000000.0 ## Class Variable\n",
    "    \n",
    "    def __init__(self, windows, doors, power):\n",
    "        self.windows = windows\n",
    "        self.doors = doors\n",
    "        self.power = power\n",
    "        \n",
    "    def what_base_price(self):\n",
    "        return f\"The base price is {self.base_price}\"\n",
    "    \n",
    "    @classmethod\n",
    "    def revise_base_price(cls, inflation):\n",
    "        cls.base_price = cls.base_price + cls.base_price * inflation\n",
    "        \n",
    "car = Car(2,4,100)\n",
    "print(car.what_base_price())\n",
    "\n",
    "car.revise_base_price(0.0004)\n",
    "print(car.what_base_price())\n",
    "\n",
    "# Globally, we changing the base price of the class\n",
    "tata = Car(20,40,200)\n",
    "print(tata.what_base_price())"
   ]
  },
  {
   "cell_type": "code",
   "execution_count": 19,
   "id": "37722c15",
   "metadata": {},
   "outputs": [
    {
     "name": "stdout",
     "output_type": "stream",
     "text": [
      "The base price is 1000000.0\n",
      "The base price is 1000400.0\n",
      "The base price is 1000400.0\n"
     ]
    },
    {
     "ename": "NameError",
     "evalue": "name 'self' is not defined",
     "output_type": "error",
     "traceback": [
      "\u001b[1;31m---------------------------------------------------------------------------\u001b[0m",
      "\u001b[1;31mNameError\u001b[0m                                 Traceback (most recent call last)",
      "Input \u001b[1;32mIn [19]\u001b[0m, in \u001b[0;36m<cell line: 32>\u001b[1;34m()\u001b[0m\n\u001b[0;32m     29\u001b[0m \u001b[38;5;28mprint\u001b[39m(tata\u001b[38;5;241m.\u001b[39mwhat_base_price())\n\u001b[0;32m     31\u001b[0m toyota \u001b[38;5;241m=\u001b[39m Car(\u001b[38;5;241m23\u001b[39m,\u001b[38;5;241m89\u001b[39m,\u001b[38;5;241m10\u001b[39m)\n\u001b[1;32m---> 32\u001b[0m \u001b[38;5;28mprint\u001b[39m(\u001b[43mtoyota\u001b[49m\u001b[38;5;241;43m.\u001b[39;49m\u001b[43mcarDetails\u001b[49m\u001b[43m(\u001b[49m\u001b[38;5;241;43m8\u001b[39;49m\u001b[43m)\u001b[49m)\n",
      "Input \u001b[1;32mIn [19]\u001b[0m, in \u001b[0;36mCar.carDetails\u001b[1;34m(n)\u001b[0m\n\u001b[0;32m     16\u001b[0m \u001b[38;5;129m@staticmethod\u001b[39m\n\u001b[0;32m     17\u001b[0m \u001b[38;5;28;01mdef\u001b[39;00m \u001b[38;5;21mcarDetails\u001b[39m(n):\n\u001b[1;32m---> 18\u001b[0m     param \u001b[38;5;241m=\u001b[39m n \u001b[38;5;241m*\u001b[39m \u001b[38;5;28;43mself\u001b[39;49m\u001b[38;5;241m.\u001b[39mdoors\n\u001b[0;32m     19\u001b[0m     \u001b[38;5;28;01mreturn\u001b[39;00m \u001b[38;5;124mf\u001b[39m\u001b[38;5;124m\"\u001b[39m\u001b[38;5;124mThis car is ok with that amount: \u001b[39m\u001b[38;5;132;01m{\u001b[39;00mparam\u001b[38;5;132;01m}\u001b[39;00m\u001b[38;5;124m\"\u001b[39m\n",
      "\u001b[1;31mNameError\u001b[0m: name 'self' is not defined"
     ]
    }
   ],
   "source": [
    "class Car:\n",
    "    base_price = 1000000.0 ## Class Variable\n",
    "    \n",
    "    def __init__(self, windows, doors, power):\n",
    "        self.windows = windows\n",
    "        self.doors = doors\n",
    "        self.power = power\n",
    "        \n",
    "    def what_base_price(self):\n",
    "        return f\"The base price is {self.base_price}\"\n",
    "    \n",
    "    @classmethod\n",
    "    def revise_base_price(cls, inflation):\n",
    "        cls.base_price = cls.base_price + cls.base_price * inflation\n",
    "        \n",
    "    @staticmethod\n",
    "    def carDetails(n):\n",
    "        param = n * self.doors\n",
    "        return f\"This car is ok with that amount: {param}\"\n",
    "    \n",
    "car = Car(2,4,100)\n",
    "print(car.what_base_price())\n",
    "\n",
    "car.revise_base_price(0.0004)\n",
    "print(car.what_base_price())\n",
    "\n",
    "# Globally, we changing the base price of the class\n",
    "tata = Car(20,40,200)\n",
    "print(tata.what_base_price())\n",
    "\n",
    "toyota = Car(23,89,10)\n",
    "print(toyota.carDetails(8))"
   ]
  },
  {
   "cell_type": "code",
   "execution_count": 20,
   "id": "47e54038",
   "metadata": {},
   "outputs": [
    {
     "name": "stdout",
     "output_type": "stream",
     "text": [
      "The base price is 1000000.0\n",
      "The base price is 1000400.0\n",
      "The base price is 1000400.0\n"
     ]
    },
    {
     "ename": "NameError",
     "evalue": "name 'cls' is not defined",
     "output_type": "error",
     "traceback": [
      "\u001b[1;31m---------------------------------------------------------------------------\u001b[0m",
      "\u001b[1;31mNameError\u001b[0m                                 Traceback (most recent call last)",
      "Input \u001b[1;32mIn [20]\u001b[0m, in \u001b[0;36m<cell line: 32>\u001b[1;34m()\u001b[0m\n\u001b[0;32m     29\u001b[0m \u001b[38;5;28mprint\u001b[39m(tata\u001b[38;5;241m.\u001b[39mwhat_base_price())\n\u001b[0;32m     31\u001b[0m toyota \u001b[38;5;241m=\u001b[39m Car(\u001b[38;5;241m23\u001b[39m,\u001b[38;5;241m89\u001b[39m,\u001b[38;5;241m10\u001b[39m)\n\u001b[1;32m---> 32\u001b[0m \u001b[38;5;28mprint\u001b[39m(\u001b[43mtoyota\u001b[49m\u001b[38;5;241;43m.\u001b[39;49m\u001b[43mcarDetails\u001b[49m\u001b[43m(\u001b[49m\u001b[38;5;241;43m8\u001b[39;49m\u001b[43m)\u001b[49m)\n",
      "Input \u001b[1;32mIn [20]\u001b[0m, in \u001b[0;36mCar.carDetails\u001b[1;34m(n)\u001b[0m\n\u001b[0;32m     16\u001b[0m \u001b[38;5;129m@staticmethod\u001b[39m\n\u001b[0;32m     17\u001b[0m \u001b[38;5;28;01mdef\u001b[39;00m \u001b[38;5;21mcarDetails\u001b[39m(n):\n\u001b[1;32m---> 18\u001b[0m     param \u001b[38;5;241m=\u001b[39m n \u001b[38;5;241m*\u001b[39m \u001b[38;5;28;43mcls\u001b[39;49m\u001b[38;5;241m.\u001b[39mdoors\n\u001b[0;32m     19\u001b[0m     \u001b[38;5;28;01mreturn\u001b[39;00m \u001b[38;5;124mf\u001b[39m\u001b[38;5;124m\"\u001b[39m\u001b[38;5;124mThis car is ok with that amount: \u001b[39m\u001b[38;5;132;01m{\u001b[39;00mparam\u001b[38;5;132;01m}\u001b[39;00m\u001b[38;5;124m\"\u001b[39m\n",
      "\u001b[1;31mNameError\u001b[0m: name 'cls' is not defined"
     ]
    }
   ],
   "source": [
    "class Car:\n",
    "    base_price = 1000000.0 ## Class Variable\n",
    "    \n",
    "    def __init__(self, windows, doors, power):\n",
    "        self.windows = windows\n",
    "        self.doors = doors\n",
    "        self.power = power\n",
    "        \n",
    "    def what_base_price(self):\n",
    "        return f\"The base price is {self.base_price}\"\n",
    "    \n",
    "    @classmethod\n",
    "    def revise_base_price(cls, inflation):\n",
    "        cls.base_price = cls.base_price + cls.base_price * inflation\n",
    "        \n",
    "    @staticmethod\n",
    "    def carDetails(n):\n",
    "        param = n * cls.doors\n",
    "        return f\"This car is ok with that amount: {param}\"\n",
    "    \n",
    "car = Car(2,4,100)\n",
    "print(car.what_base_price())\n",
    "\n",
    "car.revise_base_price(0.0004)\n",
    "print(car.what_base_price())\n",
    "\n",
    "# Globally, we changing the base price of the class\n",
    "tata = Car(20,40,200)\n",
    "print(tata.what_base_price())\n",
    "\n",
    "toyota = Car(23,89,10)\n",
    "print(toyota.carDetails(8))"
   ]
  },
  {
   "cell_type": "code",
   "execution_count": 21,
   "id": "24e1d7df",
   "metadata": {},
   "outputs": [
    {
     "name": "stdout",
     "output_type": "stream",
     "text": [
      "The base price is 1000000.0\n",
      "The base price is 1000400.0\n",
      "The base price is 1000400.0\n"
     ]
    },
    {
     "ename": "NameError",
     "evalue": "name 'base_price' is not defined",
     "output_type": "error",
     "traceback": [
      "\u001b[1;31m---------------------------------------------------------------------------\u001b[0m",
      "\u001b[1;31mNameError\u001b[0m                                 Traceback (most recent call last)",
      "Input \u001b[1;32mIn [21]\u001b[0m, in \u001b[0;36m<cell line: 32>\u001b[1;34m()\u001b[0m\n\u001b[0;32m     29\u001b[0m \u001b[38;5;28mprint\u001b[39m(tata\u001b[38;5;241m.\u001b[39mwhat_base_price())\n\u001b[0;32m     31\u001b[0m toyota \u001b[38;5;241m=\u001b[39m Car(\u001b[38;5;241m23\u001b[39m,\u001b[38;5;241m89\u001b[39m,\u001b[38;5;241m10\u001b[39m)\n\u001b[1;32m---> 32\u001b[0m \u001b[38;5;28mprint\u001b[39m(\u001b[43mtoyota\u001b[49m\u001b[38;5;241;43m.\u001b[39;49m\u001b[43mcarDetails\u001b[49m\u001b[43m(\u001b[49m\u001b[38;5;241;43m8\u001b[39;49m\u001b[43m)\u001b[49m)\n",
      "Input \u001b[1;32mIn [21]\u001b[0m, in \u001b[0;36mCar.carDetails\u001b[1;34m(n)\u001b[0m\n\u001b[0;32m     16\u001b[0m \u001b[38;5;129m@staticmethod\u001b[39m\n\u001b[0;32m     17\u001b[0m \u001b[38;5;28;01mdef\u001b[39;00m \u001b[38;5;21mcarDetails\u001b[39m(n):\n\u001b[1;32m---> 18\u001b[0m     param \u001b[38;5;241m=\u001b[39m n \u001b[38;5;241m*\u001b[39m \u001b[43mbase_price\u001b[49m\n\u001b[0;32m     19\u001b[0m     \u001b[38;5;28;01mreturn\u001b[39;00m \u001b[38;5;124mf\u001b[39m\u001b[38;5;124m\"\u001b[39m\u001b[38;5;124mThis car is ok with that amount: \u001b[39m\u001b[38;5;132;01m{\u001b[39;00mparam\u001b[38;5;132;01m}\u001b[39;00m\u001b[38;5;124m\"\u001b[39m\n",
      "\u001b[1;31mNameError\u001b[0m: name 'base_price' is not defined"
     ]
    }
   ],
   "source": [
    "class Car:\n",
    "    base_price = 1000000.0 ## Class Variable\n",
    "    \n",
    "    def __init__(self, windows, doors, power):\n",
    "        self.windows = windows\n",
    "        self.doors = doors\n",
    "        self.power = power\n",
    "        \n",
    "    def what_base_price(self):\n",
    "        return f\"The base price is {self.base_price}\"\n",
    "    \n",
    "    @classmethod\n",
    "    def revise_base_price(cls, inflation):\n",
    "        cls.base_price = cls.base_price + cls.base_price * inflation\n",
    "        \n",
    "    @staticmethod\n",
    "    def carDetails(n):\n",
    "        param = n * base_price\n",
    "        return f\"This car is ok with that amount: {param}\"\n",
    "    \n",
    "car = Car(2,4,100)\n",
    "print(car.what_base_price())\n",
    "\n",
    "car.revise_base_price(0.0004)\n",
    "print(car.what_base_price())\n",
    "\n",
    "# Globally, we changing the base price of the class\n",
    "tata = Car(20,40,200)\n",
    "print(tata.what_base_price())\n",
    "\n",
    "toyota = Car(23,89,10)\n",
    "print(toyota.carDetails(8))"
   ]
  },
  {
   "cell_type": "code",
   "execution_count": 22,
   "id": "93a99c4c",
   "metadata": {},
   "outputs": [
    {
     "name": "stdout",
     "output_type": "stream",
     "text": [
      "The base price is 1000000.0\n",
      "The base price is 1000400.0\n",
      "The base price is 1000400.0\n"
     ]
    },
    {
     "ename": "NameError",
     "evalue": "name 'doors' is not defined",
     "output_type": "error",
     "traceback": [
      "\u001b[1;31m---------------------------------------------------------------------------\u001b[0m",
      "\u001b[1;31mNameError\u001b[0m                                 Traceback (most recent call last)",
      "Input \u001b[1;32mIn [22]\u001b[0m, in \u001b[0;36m<cell line: 32>\u001b[1;34m()\u001b[0m\n\u001b[0;32m     29\u001b[0m \u001b[38;5;28mprint\u001b[39m(tata\u001b[38;5;241m.\u001b[39mwhat_base_price())\n\u001b[0;32m     31\u001b[0m toyota \u001b[38;5;241m=\u001b[39m Car(\u001b[38;5;241m23\u001b[39m,\u001b[38;5;241m89\u001b[39m,\u001b[38;5;241m10\u001b[39m)\n\u001b[1;32m---> 32\u001b[0m \u001b[38;5;28mprint\u001b[39m(\u001b[43mtoyota\u001b[49m\u001b[38;5;241;43m.\u001b[39;49m\u001b[43mcarDetails\u001b[49m\u001b[43m(\u001b[49m\u001b[38;5;241;43m8\u001b[39;49m\u001b[43m)\u001b[49m)\n",
      "Input \u001b[1;32mIn [22]\u001b[0m, in \u001b[0;36mCar.carDetails\u001b[1;34m(n)\u001b[0m\n\u001b[0;32m     16\u001b[0m \u001b[38;5;129m@staticmethod\u001b[39m\n\u001b[0;32m     17\u001b[0m \u001b[38;5;28;01mdef\u001b[39;00m \u001b[38;5;21mcarDetails\u001b[39m(n):\n\u001b[1;32m---> 18\u001b[0m     param \u001b[38;5;241m=\u001b[39m n \u001b[38;5;241m*\u001b[39m \u001b[43mdoors\u001b[49m\n\u001b[0;32m     19\u001b[0m     \u001b[38;5;28;01mreturn\u001b[39;00m \u001b[38;5;124mf\u001b[39m\u001b[38;5;124m\"\u001b[39m\u001b[38;5;124mThis car is ok with that amount: \u001b[39m\u001b[38;5;132;01m{\u001b[39;00mparam\u001b[38;5;132;01m}\u001b[39;00m\u001b[38;5;124m\"\u001b[39m\n",
      "\u001b[1;31mNameError\u001b[0m: name 'doors' is not defined"
     ]
    }
   ],
   "source": [
    "class Car:\n",
    "    base_price = 1000000.0 ## Class Variable\n",
    "    \n",
    "    def __init__(self, windows, doors, power):\n",
    "        self.windows = windows\n",
    "        self.doors = doors\n",
    "        self.power = power\n",
    "        \n",
    "    def what_base_price(self):\n",
    "        return f\"The base price is {self.base_price}\"\n",
    "    \n",
    "    @classmethod\n",
    "    def revise_base_price(cls, inflation):\n",
    "        cls.base_price = cls.base_price + cls.base_price * inflation\n",
    "        \n",
    "    @staticmethod\n",
    "    def carDetails(n):\n",
    "        param = n * doors\n",
    "        return f\"This car is ok with that amount: {param}\"\n",
    "    \n",
    "car = Car(2,4,100)\n",
    "print(car.what_base_price())\n",
    "\n",
    "car.revise_base_price(0.0004)\n",
    "print(car.what_base_price())\n",
    "\n",
    "# Globally, we changing the base price of the class\n",
    "tata = Car(20,40,200)\n",
    "print(tata.what_base_price())\n",
    "\n",
    "toyota = Car(23,89,10)\n",
    "print(toyota.carDetails(8))"
   ]
  },
  {
   "cell_type": "code",
   "execution_count": null,
   "id": "1befe3a2",
   "metadata": {},
   "outputs": [],
   "source": []
  }
 ],
 "metadata": {
  "kernelspec": {
   "display_name": "Python 3 (ipykernel)",
   "language": "python",
   "name": "python3"
  },
  "language_info": {
   "codemirror_mode": {
    "name": "ipython",
    "version": 3
   },
   "file_extension": ".py",
   "mimetype": "text/x-python",
   "name": "python",
   "nbconvert_exporter": "python",
   "pygments_lexer": "ipython3",
   "version": "3.9.12"
  }
 },
 "nbformat": 4,
 "nbformat_minor": 5
}
