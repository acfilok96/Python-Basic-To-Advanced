{
 "cells": [
  {
   "cell_type": "markdown",
   "id": "cb6dcab9",
   "metadata": {},
   "source": [
    "# Zero Situation"
   ]
  },
  {
   "cell_type": "markdown",
   "id": "73b565f9",
   "metadata": {},
   "source": [
    "In above, we can see that the variables are public."
   ]
  },
  {
   "cell_type": "code",
   "execution_count": 82,
   "id": "a03ba55e",
   "metadata": {},
   "outputs": [
    {
     "name": "stdout",
     "output_type": "stream",
     "text": [
      "<__main__.Car object at 0x0000011FE76DAEE0>\n"
     ]
    }
   ],
   "source": [
    "# All the class variable are public\n",
    "\n",
    "class Car:\n",
    "    def __init__(self, windows, doors, engine_type):\n",
    "        self.windows = windows\n",
    "        self.doors = doors\n",
    "        self.engine_type = engine_type\n",
    "        \n",
    "car = Car(4, 5, \"Petrol\")\n",
    "print(car)"
   ]
  },
  {
   "cell_type": "code",
   "execution_count": 83,
   "id": "64707da9",
   "metadata": {},
   "outputs": [
    {
     "name": "stdout",
     "output_type": "stream",
     "text": [
      "['windows', 'doors', 'engine_type', '__module__', '__init__', '__dict__', '__weakref__', '__doc__', '__repr__', '__hash__', '__str__', '__getattribute__', '__setattr__', '__delattr__', '__lt__', '__le__', '__eq__', '__ne__', '__gt__', '__ge__', '__new__', '__reduce_ex__', '__reduce__', '__subclasshook__', '__init_subclass__', '__format__', '__sizeof__', '__dir__', '__class__']\n"
     ]
    }
   ],
   "source": [
    "print(car.__dir__())"
   ]
  },
  {
   "cell_type": "markdown",
   "id": "d6372cec",
   "metadata": {},
   "source": [
    "In above, we can see that the variables are protected."
   ]
  },
  {
   "cell_type": "code",
   "execution_count": 84,
   "id": "11d90c73",
   "metadata": {},
   "outputs": [
    {
     "name": "stdout",
     "output_type": "stream",
     "text": [
      "<__main__.Car object at 0x0000011FE750EF10>\n"
     ]
    }
   ],
   "source": [
    "# All the class variable are protected\n",
    "\n",
    "class Car:\n",
    "    def __init__(self, windows, doors, engine_type):\n",
    "        self._windows = windows\n",
    "        self._doors = doors\n",
    "        self._engine_type = engine_type\n",
    "        \n",
    "car = Car(4, 5, \"Petrol\")\n",
    "print(car)"
   ]
  },
  {
   "cell_type": "code",
   "execution_count": 85,
   "id": "d3902129",
   "metadata": {},
   "outputs": [
    {
     "name": "stdout",
     "output_type": "stream",
     "text": [
      "['_windows', '_doors', '_engine_type', '__module__', '__init__', '__dict__', '__weakref__', '__doc__', '__repr__', '__hash__', '__str__', '__getattribute__', '__setattr__', '__delattr__', '__lt__', '__le__', '__eq__', '__ne__', '__gt__', '__ge__', '__new__', '__reduce_ex__', '__reduce__', '__subclasshook__', '__init_subclass__', '__format__', '__sizeof__', '__dir__', '__class__']\n"
     ]
    }
   ],
   "source": [
    "print(car.__dir__())"
   ]
  },
  {
   "cell_type": "markdown",
   "id": "86e67e02",
   "metadata": {},
   "source": [
    "In above, we can see that the variables are private."
   ]
  },
  {
   "cell_type": "code",
   "execution_count": 86,
   "id": "900d3069",
   "metadata": {},
   "outputs": [
    {
     "name": "stdout",
     "output_type": "stream",
     "text": [
      "<__main__.Car object at 0x0000011FE7694B50>\n"
     ]
    }
   ],
   "source": [
    "# All the class variable are private\n",
    "\n",
    "class Car:\n",
    "    def __init__(self, windows, doors, engine_type):\n",
    "        self.__windows = windows\n",
    "        self.__doors = doors\n",
    "        self.__engine_type = engine_type\n",
    "        \n",
    "car = Car(4, 5, \"Petrol\")\n",
    "print(car)"
   ]
  },
  {
   "cell_type": "code",
   "execution_count": 87,
   "id": "c35b86e2",
   "metadata": {},
   "outputs": [
    {
     "name": "stdout",
     "output_type": "stream",
     "text": [
      "['_Car__windows', '_Car__doors', '_Car__engine_type', '__module__', '__init__', '__dict__', '__weakref__', '__doc__', '__repr__', '__hash__', '__str__', '__getattribute__', '__setattr__', '__delattr__', '__lt__', '__le__', '__eq__', '__ne__', '__gt__', '__ge__', '__new__', '__reduce_ex__', '__reduce__', '__subclasshook__', '__init_subclass__', '__format__', '__sizeof__', '__dir__', '__class__']\n"
     ]
    }
   ],
   "source": [
    "print(car.__dir__())"
   ]
  },
  {
   "cell_type": "markdown",
   "id": "6aab0b23",
   "metadata": {},
   "source": [
    "# One Situation"
   ]
  },
  {
   "cell_type": "code",
   "execution_count": 88,
   "id": "7a57c0df",
   "metadata": {},
   "outputs": [],
   "source": [
    "# All the class variable are public\n",
    "class Car:\n",
    "    def __init__(self, windows, doors, engine_type):\n",
    "        self.windows = windows\n",
    "        self.doors = doors\n",
    "        self.engine_type = engine_type"
   ]
  },
  {
   "cell_type": "code",
   "execution_count": 89,
   "id": "66538756",
   "metadata": {},
   "outputs": [
    {
     "name": "stdout",
     "output_type": "stream",
     "text": [
      "['windows', 'doors', 'engine_type', 'horsePower', '__module__', '__init__', '__doc__', '__dict__', '__weakref__', '__repr__', '__hash__', '__str__', '__getattribute__', '__setattr__', '__delattr__', '__lt__', '__le__', '__eq__', '__ne__', '__gt__', '__ge__', '__new__', '__reduce_ex__', '__reduce__', '__subclasshook__', '__init_subclass__', '__format__', '__sizeof__', '__dir__', '__class__']\n"
     ]
    }
   ],
   "source": [
    "class Truck(Car):\n",
    "    def __init__(self, windows, doors, engine_type, horsePower):\n",
    "        super().__init__(windows, doors, engine_type)\n",
    "        self.horsePower = horsePower\n",
    "        \n",
    "truck = Truck(3,4,5,6)\n",
    "print(truck.__dir__())"
   ]
  },
  {
   "cell_type": "code",
   "execution_count": 90,
   "id": "67ff9ae2",
   "metadata": {},
   "outputs": [],
   "source": [
    "# The class variable are protected and public\n",
    "class Car:\n",
    "    def __init__(self, windows, doors, engine_type):\n",
    "        self._windows = windows\n",
    "        self._doors = doors\n",
    "        self._engine_type = engine_type"
   ]
  },
  {
   "cell_type": "code",
   "execution_count": 91,
   "id": "f4140489",
   "metadata": {},
   "outputs": [
    {
     "name": "stdout",
     "output_type": "stream",
     "text": [
      "['_windows', '_doors', '_engine_type', 'horsePower', '__module__', '__init__', '__doc__', '__dict__', '__weakref__', '__repr__', '__hash__', '__str__', '__getattribute__', '__setattr__', '__delattr__', '__lt__', '__le__', '__eq__', '__ne__', '__gt__', '__ge__', '__new__', '__reduce_ex__', '__reduce__', '__subclasshook__', '__init_subclass__', '__format__', '__sizeof__', '__dir__', '__class__']\n"
     ]
    }
   ],
   "source": [
    "class Truck(Car):\n",
    "    def __init__(self, windows, doors, engine_type, horsePower):\n",
    "        super().__init__(windows, doors, engine_type)\n",
    "        self.horsePower = horsePower\n",
    "        \n",
    "truck = Truck(3,4,5,6)\n",
    "print(truck.__dir__())"
   ]
  },
  {
   "cell_type": "code",
   "execution_count": 92,
   "id": "590a45a9",
   "metadata": {},
   "outputs": [],
   "source": [
    "# The class variable are private and public\n",
    "class Car:\n",
    "    def __init__(self, windows, doors, engine_type):\n",
    "        self.__windows = windows\n",
    "        self.__doors = doors\n",
    "        self.__engine_type = engine_type"
   ]
  },
  {
   "cell_type": "code",
   "execution_count": 93,
   "id": "d147aa4c",
   "metadata": {},
   "outputs": [
    {
     "name": "stdout",
     "output_type": "stream",
     "text": [
      "['_Car__windows', '_Car__doors', '_Car__engine_type', 'horsePower', '__module__', '__init__', '__doc__', '__dict__', '__weakref__', '__repr__', '__hash__', '__str__', '__getattribute__', '__setattr__', '__delattr__', '__lt__', '__le__', '__eq__', '__ne__', '__gt__', '__ge__', '__new__', '__reduce_ex__', '__reduce__', '__subclasshook__', '__init_subclass__', '__format__', '__sizeof__', '__dir__', '__class__']\n"
     ]
    }
   ],
   "source": [
    "class Truck(Car):\n",
    "    def __init__(self, windows, doors, engine_type, horsePower):\n",
    "        super().__init__(windows, doors, engine_type)\n",
    "        self.horsePower = horsePower\n",
    "        \n",
    "truck = Truck(3,4,5,6)\n",
    "print(truck.__dir__())"
   ]
  },
  {
   "cell_type": "code",
   "execution_count": null,
   "id": "145d6d1d",
   "metadata": {},
   "outputs": [],
   "source": []
  }
 ],
 "metadata": {
  "kernelspec": {
   "display_name": "Python 3 (ipykernel)",
   "language": "python",
   "name": "python3"
  },
  "language_info": {
   "codemirror_mode": {
    "name": "ipython",
    "version": 3
   },
   "file_extension": ".py",
   "mimetype": "text/x-python",
   "name": "python",
   "nbconvert_exporter": "python",
   "pygments_lexer": "ipython3",
   "version": "3.9.12"
  }
 },
 "nbformat": 4,
 "nbformat_minor": 5
}
