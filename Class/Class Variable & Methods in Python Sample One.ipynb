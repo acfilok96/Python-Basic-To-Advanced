{
 "cells": [
  {
   "cell_type": "markdown",
   "id": "73397c23",
   "metadata": {},
   "source": [
    "# Zero Situation"
   ]
  },
  {
   "cell_type": "code",
   "execution_count": 19,
   "id": "a6836fce",
   "metadata": {},
   "outputs": [
    {
     "name": "stdout",
     "output_type": "stream",
     "text": [
      "8\n"
     ]
    },
    {
     "ename": "NameError",
     "evalue": "name 'no_of_variable' is not defined",
     "output_type": "error",
     "traceback": [
      "\u001b[1;31m---------------------------------------------------------------------------\u001b[0m",
      "\u001b[1;31mNameError\u001b[0m                                 Traceback (most recent call last)",
      "Input \u001b[1;32mIn [19]\u001b[0m, in \u001b[0;36m<cell line: 12>\u001b[1;34m()\u001b[0m\n\u001b[0;32m     10\u001b[0m obj_1 \u001b[38;5;241m=\u001b[39m ClassVariable(\u001b[38;5;241m2\u001b[39m)\n\u001b[0;32m     11\u001b[0m \u001b[38;5;28mprint\u001b[39m(obj_1\u001b[38;5;241m.\u001b[39mno_of_variable)\n\u001b[1;32m---> 12\u001b[0m \u001b[38;5;28mprint\u001b[39m(\u001b[43mobj_1\u001b[49m\u001b[38;5;241;43m.\u001b[39;49m\u001b[43mAddToNum\u001b[49m\u001b[43m(\u001b[49m\u001b[43m)\u001b[49m)\n",
      "Input \u001b[1;32mIn [19]\u001b[0m, in \u001b[0;36mClassVariable.AddToNum\u001b[1;34m(self)\u001b[0m\n\u001b[0;32m      7\u001b[0m \u001b[38;5;28;01mdef\u001b[39;00m \u001b[38;5;21mAddToNum\u001b[39m(\u001b[38;5;28mself\u001b[39m):\n\u001b[1;32m----> 8\u001b[0m     \u001b[38;5;28;01mreturn\u001b[39;00m \u001b[38;5;28mself\u001b[39m\u001b[38;5;241m.\u001b[39mnum \u001b[38;5;241m+\u001b[39m \u001b[43mno_of_variable\u001b[49m\n",
      "\u001b[1;31mNameError\u001b[0m: name 'no_of_variable' is not defined"
     ]
    }
   ],
   "source": [
    "class ClassVariable:\n",
    "    no_of_variable = 8\n",
    "    \n",
    "    def __init__(self, num):\n",
    "        self.num = num\n",
    "        \n",
    "    def AddToNum(self):\n",
    "        return self.num + no_of_variable\n",
    "    \n",
    "obj_1 = ClassVariable(2)\n",
    "print(obj_1.no_of_variable)\n",
    "print(obj_1.AddToNum())"
   ]
  },
  {
   "cell_type": "code",
   "execution_count": 20,
   "id": "f4409ea8",
   "metadata": {},
   "outputs": [
    {
     "name": "stdout",
     "output_type": "stream",
     "text": [
      "8\n",
      "10\n"
     ]
    }
   ],
   "source": [
    "class ClassVariable:\n",
    "    no_of_variable = 8\n",
    "    \n",
    "    def __init__(self, num):\n",
    "        self.num = num\n",
    "        \n",
    "    def AddToNum(self):\n",
    "        return self.num + ClassVariable.no_of_variable\n",
    "    \n",
    "obj_1 = ClassVariable(2)\n",
    "print(obj_1.no_of_variable)\n",
    "print(obj_1.AddToNum())"
   ]
  },
  {
   "cell_type": "code",
   "execution_count": 21,
   "id": "a96b14b8",
   "metadata": {},
   "outputs": [
    {
     "name": "stdout",
     "output_type": "stream",
     "text": [
      "8\n",
      "5\n"
     ]
    }
   ],
   "source": [
    "class ClassVariable:\n",
    "    no_of_variable = 8\n",
    "    \n",
    "    def __init__(self, num):\n",
    "        self.num = num\n",
    "        \n",
    "    def AddToNum(self):\n",
    "        return self.num + 3\n",
    "    \n",
    "obj_1 = ClassVariable(2)\n",
    "print(obj_1.no_of_variable)\n",
    "print(obj_1.AddToNum())"
   ]
  },
  {
   "cell_type": "markdown",
   "id": "c60d1492",
   "metadata": {},
   "source": [
    "We are just changing the class variable of instance of a class, not the class variable of class"
   ]
  },
  {
   "cell_type": "code",
   "execution_count": 22,
   "id": "b55d8acd",
   "metadata": {},
   "outputs": [
    {
     "name": "stdout",
     "output_type": "stream",
     "text": [
      "8\n",
      "9\n",
      "8\n"
     ]
    }
   ],
   "source": [
    "class ClassVariable:\n",
    "    no_of_variable = 8\n",
    "    \n",
    "    def __init__(self, num):\n",
    "        self.num = num\n",
    "        \n",
    "    def AddToNum(self):\n",
    "        return self.num + no_of_variable\n",
    "    \n",
    "obj_1 = ClassVariable(2)\n",
    "print(obj_1.no_of_variable)\n",
    "\n",
    "# we only change the class variable of a instance \n",
    "obj_1.no_of_variable = 9\n",
    "print(obj_1.no_of_variable)\n",
    "\n",
    "obj_2 = ClassVariable(2)\n",
    "print(obj_2.no_of_variable)"
   ]
  },
  {
   "cell_type": "markdown",
   "id": "4e9fba67",
   "metadata": {},
   "source": [
    "Here we changing the value of class variable of a class directly"
   ]
  },
  {
   "cell_type": "code",
   "execution_count": 23,
   "id": "97a1d551",
   "metadata": {},
   "outputs": [
    {
     "name": "stdout",
     "output_type": "stream",
     "text": [
      "8\n",
      "9\n",
      "9\n"
     ]
    }
   ],
   "source": [
    "class ClassVariable:\n",
    "    no_of_variable = 8\n",
    "    \n",
    "    def __init__(self, num):\n",
    "        self.num = num\n",
    "        \n",
    "    def AddToNum(self):\n",
    "        return self.num + no_of_variable\n",
    "    \n",
    "obj_1 = ClassVariable(2)\n",
    "print(obj_1.no_of_variable)\n",
    "\n",
    "# we only change the class variable of a instance \n",
    "ClassVariable.no_of_variable = 9\n",
    "print(obj_1.no_of_variable)\n",
    "\n",
    "obj_2 = ClassVariable(2)\n",
    "print(obj_2.no_of_variable)"
   ]
  },
  {
   "cell_type": "markdown",
   "id": "de58b937",
   "metadata": {},
   "source": [
    "# One Situation"
   ]
  },
  {
   "cell_type": "code",
   "execution_count": 27,
   "id": "43b55fc7",
   "metadata": {},
   "outputs": [
    {
     "name": "stdout",
     "output_type": "stream",
     "text": [
      "8\n",
      "90\n",
      "90\n"
     ]
    }
   ],
   "source": [
    "class ClassVariable:\n",
    "    no_of_variable = 8\n",
    "    \n",
    "    def __init__(self, num):\n",
    "        self.num = num\n",
    "        \n",
    "    def AddToNum(self):\n",
    "        return self.num + no_of_variable\n",
    "    \n",
    "    @classmethod\n",
    "    def change_class_variable(cls, newvariable):\n",
    "        cls.no_of_variable = newvariable\n",
    "    \n",
    "obj_1 = ClassVariable(2)\n",
    "print(obj_1.no_of_variable)\n",
    "\n",
    "# we only change the class variable of a instance \n",
    "obj_1.change_class_variable(90)\n",
    "print(obj_1.no_of_variable)\n",
    "\n",
    "obj_2 = ClassVariable(2)\n",
    "print(obj_2.no_of_variable)"
   ]
  },
  {
   "cell_type": "code",
   "execution_count": null,
   "id": "30533fc9",
   "metadata": {},
   "outputs": [],
   "source": []
  }
 ],
 "metadata": {
  "kernelspec": {
   "display_name": "Python 3 (ipykernel)",
   "language": "python",
   "name": "python3"
  },
  "language_info": {
   "codemirror_mode": {
    "name": "ipython",
    "version": 3
   },
   "file_extension": ".py",
   "mimetype": "text/x-python",
   "name": "python",
   "nbconvert_exporter": "python",
   "pygments_lexer": "ipython3",
   "version": "3.9.12"
  }
 },
 "nbformat": 4,
 "nbformat_minor": 5
}
