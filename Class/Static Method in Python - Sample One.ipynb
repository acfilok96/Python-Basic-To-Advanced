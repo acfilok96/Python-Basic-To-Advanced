{
 "cells": [
  {
   "cell_type": "markdown",
   "id": "e273e180",
   "metadata": {},
   "source": [
    "Static methods in python are methods that belongs to a class rather than \n",
    "an instance of the class. They are defined using the @staticmethod decorator\n",
    "and do not have access to the instance of the class(i.e. self). They are \n",
    "called on the class itself, not an instance of the class. Static methods\n",
    "are often used to create utility functions that don't need access to \n",
    "instance data."
   ]
  },
  {
   "cell_type": "code",
   "execution_count": 21,
   "id": "cbb18b5e",
   "metadata": {},
   "outputs": [
    {
     "name": "stdout",
     "output_type": "stream",
     "text": [
      "3\n"
     ]
    }
   ],
   "source": [
    "class Math:\n",
    "    @staticmethod\n",
    "    def add(a,b):\n",
    "        return a+b\n",
    "result = Math # result = Math()\n",
    "print(result.add(1,2))"
   ]
  },
  {
   "cell_type": "markdown",
   "id": "dc225c5d",
   "metadata": {},
   "source": [
    "In this example, the add method is a static method of the Math class. \n",
    "It takes two parameters a and b and returns their sum. The method can be \n",
    "called on the class itself, without the need to create an instance of the \n",
    "class."
   ]
  },
  {
   "cell_type": "code",
   "execution_count": 22,
   "id": "8cd38d1b",
   "metadata": {},
   "outputs": [
    {
     "name": "stdout",
     "output_type": "stream",
     "text": [
      "5\n",
      "9\n"
     ]
    }
   ],
   "source": [
    "class Math2:\n",
    "    def __init__(self, num):\n",
    "        self.num = num\n",
    "    def addToNum(self,n):\n",
    "        return self.num + n\n",
    "    @staticmethod\n",
    "    def add(a,b):\n",
    "        return a + b\n",
    "\n",
    "object_1 = Math2(2)\n",
    "print(object_1.addToNum(3))\n",
    "print(object_1.add(4,5))"
   ]
  },
  {
   "cell_type": "code",
   "execution_count": 23,
   "id": "e8e093e4",
   "metadata": {},
   "outputs": [
    {
     "ename": "TypeError",
     "evalue": "addToNum() takes 1 positional argument but 2 were given",
     "output_type": "error",
     "traceback": [
      "\u001b[1;31m---------------------------------------------------------------------------\u001b[0m",
      "\u001b[1;31mTypeError\u001b[0m                                 Traceback (most recent call last)",
      "Input \u001b[1;32mIn [23]\u001b[0m, in \u001b[0;36m<cell line: 11>\u001b[1;34m()\u001b[0m\n\u001b[0;32m      8\u001b[0m         \u001b[38;5;28;01mreturn\u001b[39;00m a \u001b[38;5;241m+\u001b[39m b\n\u001b[0;32m     10\u001b[0m object_1 \u001b[38;5;241m=\u001b[39m Math2(\u001b[38;5;241m2\u001b[39m)\n\u001b[1;32m---> 11\u001b[0m \u001b[38;5;28mprint\u001b[39m(\u001b[43mobject_1\u001b[49m\u001b[38;5;241;43m.\u001b[39;49m\u001b[43maddToNum\u001b[49m\u001b[43m(\u001b[49m\u001b[38;5;241;43m3\u001b[39;49m\u001b[43m)\u001b[49m)\n\u001b[0;32m     12\u001b[0m \u001b[38;5;28mprint\u001b[39m(object_1\u001b[38;5;241m.\u001b[39madd(\u001b[38;5;241m4\u001b[39m,\u001b[38;5;241m5\u001b[39m))\n",
      "\u001b[1;31mTypeError\u001b[0m: addToNum() takes 1 positional argument but 2 were given"
     ]
    }
   ],
   "source": [
    "class Math2:\n",
    "    def __init__(self, num):\n",
    "        self.num = num\n",
    "    def addToNum(n):  # Creating Error\n",
    "        return self.num + n\n",
    "    @staticmethod\n",
    "    def add(a,b):\n",
    "        return a + b\n",
    "\n",
    "object_1 = Math2(2)\n",
    "print(object_1.addToNum(3))\n",
    "print(object_1.add(4,5))"
   ]
  },
  {
   "cell_type": "code",
   "execution_count": 24,
   "id": "8c07a0d0",
   "metadata": {},
   "outputs": [
    {
     "name": "stdout",
     "output_type": "stream",
     "text": [
      "5\n",
      "9\n",
      "17\n"
     ]
    }
   ],
   "source": [
    "def add(aa,bb):\n",
    "    return aa + bb\n",
    "\n",
    "class Math2:\n",
    "    def __init__(self, num):\n",
    "        self.num = num\n",
    "    def addToNum(self,n):\n",
    "        return self.num + n\n",
    "    @staticmethod\n",
    "    def add(a,b):\n",
    "        return a + b\n",
    "\n",
    "object_1 = Math2(2)\n",
    "print(object_1.addToNum(3))\n",
    "print(object_1.add(4,5))\n",
    "\n",
    "print(Math2.add(8,9))"
   ]
  },
  {
   "cell_type": "code",
   "execution_count": 25,
   "id": "f7a55699",
   "metadata": {},
   "outputs": [
    {
     "name": "stdout",
     "output_type": "stream",
     "text": [
      "5\n"
     ]
    },
    {
     "ename": "AttributeError",
     "evalue": "type object 'Math2' has no attribute 'add'",
     "output_type": "error",
     "traceback": [
      "\u001b[1;31m---------------------------------------------------------------------------\u001b[0m",
      "\u001b[1;31mAttributeError\u001b[0m                            Traceback (most recent call last)",
      "Input \u001b[1;32mIn [25]\u001b[0m, in \u001b[0;36m<cell line: 13>\u001b[1;34m()\u001b[0m\n\u001b[0;32m     10\u001b[0m object_1 \u001b[38;5;241m=\u001b[39m Math2(\u001b[38;5;241m2\u001b[39m)\n\u001b[0;32m     11\u001b[0m \u001b[38;5;28mprint\u001b[39m(object_1\u001b[38;5;241m.\u001b[39maddToNum(\u001b[38;5;241m3\u001b[39m))\n\u001b[1;32m---> 13\u001b[0m \u001b[38;5;28mprint\u001b[39m(\u001b[43mMath2\u001b[49m\u001b[38;5;241;43m.\u001b[39;49m\u001b[43madd\u001b[49m(\u001b[38;5;241m8\u001b[39m,\u001b[38;5;241m9\u001b[39m))\n",
      "\u001b[1;31mAttributeError\u001b[0m: type object 'Math2' has no attribute 'add'"
     ]
    }
   ],
   "source": [
    "def add(aa,bb):\n",
    "    return aa + bb\n",
    "\n",
    "class Math2:\n",
    "    def __init__(self, num):\n",
    "        self.num = num\n",
    "    def addToNum(self,n):\n",
    "        return self.num + n\n",
    "\n",
    "object_1 = Math2(2)\n",
    "print(object_1.addToNum(3))\n",
    "\n",
    "print(Math2.add(8,9))"
   ]
  },
  {
   "cell_type": "code",
   "execution_count": 26,
   "id": "24e5bc64",
   "metadata": {},
   "outputs": [
    {
     "name": "stdout",
     "output_type": "stream",
     "text": [
      "5\n",
      "9\n",
      "137\n"
     ]
    }
   ],
   "source": [
    "class Math2:\n",
    "    def __init__(self, num):\n",
    "        self.num = num\n",
    "    def addToNum(self,n):\n",
    "        return self.num + n\n",
    "    @staticmethod\n",
    "    def add(a,b):\n",
    "        return a + b\n",
    "\n",
    "object_1 = Math2(2)\n",
    "print(object_1.addToNum(3))\n",
    "print(object_1.add(4,5))\n",
    "\n",
    "print(object_1.add(1,44) + object_1.addToNum(90))"
   ]
  },
  {
   "cell_type": "code",
   "execution_count": null,
   "id": "5cf55ee2",
   "metadata": {},
   "outputs": [],
   "source": []
  }
 ],
 "metadata": {
  "kernelspec": {
   "display_name": "Python 3 (ipykernel)",
   "language": "python",
   "name": "python3"
  },
  "language_info": {
   "codemirror_mode": {
    "name": "ipython",
    "version": 3
   },
   "file_extension": ".py",
   "mimetype": "text/x-python",
   "name": "python",
   "nbconvert_exporter": "python",
   "pygments_lexer": "ipython3",
   "version": "3.9.12"
  }
 },
 "nbformat": 4,
 "nbformat_minor": 5
}
