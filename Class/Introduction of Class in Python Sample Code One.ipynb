{
 "cells": [
  {
   "cell_type": "code",
   "execution_count": 16,
   "id": "20165292",
   "metadata": {},
   "outputs": [],
   "source": [
    "# Start Python Classes and Objects :"
   ]
  },
  {
   "cell_type": "code",
   "execution_count": 17,
   "id": "3927f6de",
   "metadata": {},
   "outputs": [
    {
     "name": "stdout",
     "output_type": "stream",
     "text": [
      "Add Result:  7\n"
     ]
    }
   ],
   "source": [
    "class Python:\n",
    "    def __init__(self,a,b):\n",
    "        self.a = a\n",
    "        self.b = b\n",
    "    def add(self):\n",
    "        return self.a + self.b\n",
    "\n",
    "object_1 = Python(3,4)\n",
    "add_result = object_1.add()\n",
    "print(\"Add Result: \",add_result)"
   ]
  },
  {
   "cell_type": "code",
   "execution_count": 18,
   "id": "75e0a48c",
   "metadata": {},
   "outputs": [
    {
     "name": "stdout",
     "output_type": "stream",
     "text": [
      "My name is Tom\n",
      "My name is Jerry\n"
     ]
    }
   ],
   "source": [
    "class Robot:\n",
    "    def introduce_self(self):\n",
    "        print(\"My name is \" + self.name) # this is Java\n",
    "        \n",
    "robot = Robot()\n",
    "robot.name = \"Tom\"\n",
    "robot.introduce_self()\n",
    "robot.color = \"red\"\n",
    "robot.weight = 30\n",
    "\n",
    "robot.name = \"Jerry\"\n",
    "robot.introduce_self()"
   ]
  },
  {
   "cell_type": "code",
   "execution_count": 19,
   "id": "2a11197d",
   "metadata": {},
   "outputs": [
    {
     "name": "stdout",
     "output_type": "stream",
     "text": [
      "My name is Monday\n"
     ]
    }
   ],
   "source": [
    "cobot = Robot()\n",
    "cobot.name = \"Monday\"\n",
    "\n",
    "cobot.introduce_self()"
   ]
  },
  {
   "cell_type": "code",
   "execution_count": 20,
   "id": "3df61800",
   "metadata": {},
   "outputs": [
    {
     "name": "stdout",
     "output_type": "stream",
     "text": [
      "My name is: Monty\n",
      "My color is: Red\n",
      "My weight is: 55\n"
     ]
    }
   ],
   "source": [
    "class Mine:\n",
    "    def __init__(self, name, color, weight):\n",
    "        self.name = name\n",
    "        self.color = color\n",
    "        self.weight = weight\n",
    "        \n",
    "    def introduce_self(self):\n",
    "        print(\"My name is: \" + self.name)\n",
    "        print(\"My color is: \" + self.color)\n",
    "        print(\"My weight is: \" + str(self.weight))\n",
    "\n",
    "mine = Mine(\"Monty\", \"Red\", 55)\n",
    "mine.introduce_self()"
   ]
  },
  {
   "cell_type": "code",
   "execution_count": null,
   "id": "4106a6b5",
   "metadata": {},
   "outputs": [],
   "source": []
  },
  {
   "cell_type": "code",
   "execution_count": null,
   "id": "842f3fb2",
   "metadata": {},
   "outputs": [],
   "source": []
  }
 ],
 "metadata": {
  "kernelspec": {
   "display_name": "Python 3 (ipykernel)",
   "language": "python",
   "name": "python3"
  },
  "language_info": {
   "codemirror_mode": {
    "name": "ipython",
    "version": 3
   },
   "file_extension": ".py",
   "mimetype": "text/x-python",
   "name": "python",
   "nbconvert_exporter": "python",
   "pygments_lexer": "ipython3",
   "version": "3.9.12"
  }
 },
 "nbformat": 4,
 "nbformat_minor": 5
}
