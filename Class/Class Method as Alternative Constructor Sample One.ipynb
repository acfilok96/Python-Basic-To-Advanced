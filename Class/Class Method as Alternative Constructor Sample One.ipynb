{
 "cells": [
  {
   "cell_type": "markdown",
   "id": "0899c4d4",
   "metadata": {},
   "source": [
    "Link: https://www.youtube.com/watch?v=nrCI9HcpVZ8&ab_channel=CodeWithHarry"
   ]
  },
  {
   "cell_type": "code",
   "execution_count": 16,
   "id": "d89d4f0f",
   "metadata": {},
   "outputs": [],
   "source": [
    "# Class Method as Alternative Constructor"
   ]
  },
  {
   "cell_type": "code",
   "execution_count": 17,
   "id": "db39c3c5",
   "metadata": {},
   "outputs": [
    {
     "name": "stdout",
     "output_type": "stream",
     "text": [
      "The Name is Monty Dinda and his roll no. is 23 and he is a Student\n",
      "['Monty', 'Dinda', '23', 'Student']\n",
      "The Name is Monty Dinda and his roll no. is 23 and he is a Student\n"
     ]
    }
   ],
   "source": [
    "class ClassVariable:\n",
    "    \n",
    "    def __init__(self, firstName, LastName, RollNo, Profession):\n",
    "        self.firstName = firstName\n",
    "        self.LastName = LastName\n",
    "        self.RollNo = RollNo\n",
    "        self.Profession = Profession\n",
    "        \n",
    "    def printData(self):\n",
    "        return f\"The Name is {self.firstName} {self.LastName} and his roll no. is {self.RollNo} and he is a {self.Profession}\"\n",
    "    \n",
    "    @classmethod\n",
    "    def from_str(cls, string):\n",
    "        param = string.split(\"-\")\n",
    "        print(param)\n",
    "        return cls(param[0], param[1], param[2], param[3])\n",
    "    \n",
    "   \n",
    "    \n",
    "obj_1 = ClassVariable(\"Monty\", \"Dinda\", 23, \"Student\")\n",
    "print(obj_1.printData())\n",
    "\n",
    "obj_2 = ClassVariable.from_str(\"Monty-Dinda-23-Student\")\n",
    "print(obj_2.printData())"
   ]
  },
  {
   "cell_type": "code",
   "execution_count": 18,
   "id": "1918e991",
   "metadata": {},
   "outputs": [
    {
     "name": "stdout",
     "output_type": "stream",
     "text": [
      "The Name is Monty Dinda and his roll no. is 23 and he is a Student\n",
      "The Name is Monty Dinda and his roll no. is 23 and he is a Student\n"
     ]
    }
   ],
   "source": [
    "class ClassVariable:\n",
    "    \n",
    "    def __init__(self, firstName, LastName, RollNo, Profession):\n",
    "        self.firstName = firstName\n",
    "        self.LastName = LastName\n",
    "        self.RollNo = RollNo\n",
    "        self.Profession = Profession\n",
    "        \n",
    "    def printData(self):\n",
    "        return f\"The Name is {self.firstName} {self.LastName} and his roll no. is {self.RollNo} and he is a {self.Profession}\"\n",
    "    \n",
    "    @classmethod\n",
    "    def from_str(cls, string):\n",
    "        param = string.split(\"-\")\n",
    "        return cls(param[0], param[1], param[2], param[3])\n",
    "    \n",
    "   \n",
    "    \n",
    "obj_1 = ClassVariable(\"Monty\", \"Dinda\", 23, \"Student\")\n",
    "print(obj_1.printData())\n",
    "\n",
    "obj_2 = ClassVariable.from_str(\"Monty-Dinda-23-Student\")\n",
    "print(obj_2.printData())"
   ]
  },
  {
   "cell_type": "code",
   "execution_count": 19,
   "id": "80f4929f",
   "metadata": {},
   "outputs": [
    {
     "name": "stdout",
     "output_type": "stream",
     "text": [
      "The Name is Monty Dinda and his roll no. is 23 and he is a Student\n",
      "The Name is Monty Dinda and his roll no. is 23 and he is a Student\n"
     ]
    }
   ],
   "source": [
    "class ClassVariable:\n",
    "    \n",
    "    def __init__(self, firstName, LastName, RollNo, Profession):\n",
    "        self.firstName = firstName\n",
    "        self.LastName = LastName\n",
    "        self.RollNo = RollNo\n",
    "        self.Profession = Profession\n",
    "        \n",
    "    def printData(self):\n",
    "        return f\"The Name is {self.firstName} {self.LastName} and his roll no. is {self.RollNo} and he is a {self.Profession}\"\n",
    "    \n",
    "    @classmethod\n",
    "    def from_str(cls, string):\n",
    "        return cls(*string.split(\"-\"))\n",
    "    \n",
    "   \n",
    "    \n",
    "obj_1 = ClassVariable(\"Monty\", \"Dinda\", 23, \"Student\")\n",
    "print(obj_1.printData())\n",
    "\n",
    "obj_2 = ClassVariable.from_str(\"Monty-Dinda-23-Student\")\n",
    "print(obj_2.printData())"
   ]
  },
  {
   "cell_type": "code",
   "execution_count": null,
   "id": "2167ec9e",
   "metadata": {},
   "outputs": [],
   "source": []
  },
  {
   "cell_type": "code",
   "execution_count": null,
   "id": "dafd9b67",
   "metadata": {},
   "outputs": [],
   "source": []
  },
  {
   "cell_type": "code",
   "execution_count": null,
   "id": "a82244fe",
   "metadata": {},
   "outputs": [],
   "source": []
  }
 ],
 "metadata": {
  "kernelspec": {
   "display_name": "Python 3 (ipykernel)",
   "language": "python",
   "name": "python3"
  },
  "language_info": {
   "codemirror_mode": {
    "name": "ipython",
    "version": 3
   },
   "file_extension": ".py",
   "mimetype": "text/x-python",
   "name": "python",
   "nbconvert_exporter": "python",
   "pygments_lexer": "ipython3",
   "version": "3.9.12"
  }
 },
 "nbformat": 4,
 "nbformat_minor": 5
}
