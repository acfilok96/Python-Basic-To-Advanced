{
 "cells": [
  {
   "cell_type": "markdown",
   "id": "95db86d9",
   "metadata": {},
   "source": [
    "# Instance vs class variable"
   ]
  },
  {
   "cell_type": "markdown",
   "id": "20b9c5e0",
   "metadata": {},
   "source": [
    "In Python, variable can be defined at the class level or at the \n",
    "instance level. Understanding the difference between these types\n",
    "of variables is crucial for writing efficient and maintainable\n",
    "code."
   ]
  },
  {
   "cell_type": "markdown",
   "id": "b6a160e6",
   "metadata": {},
   "source": [
    "# Class variable"
   ]
  },
  {
   "cell_type": "markdown",
   "id": "778172f7",
   "metadata": {},
   "source": [
    "Class variables are defined at the class level and are shared\n",
    "among all instances of the class. They are defined outside of\n",
    "any method and are usually used to store information that is\n",
    "common to all instances of the class. For example, a class\n",
    "variable can be used to store the number of instances of a\n",
    "class that have been created."
   ]
  },
  {
   "cell_type": "markdown",
   "id": "2c24f345",
   "metadata": {},
   "source": [
    "# Example One"
   ]
  },
  {
   "cell_type": "code",
   "execution_count": 38,
   "id": "3021801b",
   "metadata": {},
   "outputs": [],
   "source": [
    "class MyClass:\n",
    "    class_var = 0\n",
    "    def __init__(self):\n",
    "        MyClass.class_var += 1\n",
    "    def printClassVariable(self):\n",
    "        return f\"The Class Variable Value is {MyClass.class_var}\""
   ]
  },
  {
   "cell_type": "code",
   "execution_count": 39,
   "id": "0ba43176",
   "metadata": {},
   "outputs": [
    {
     "name": "stdout",
     "output_type": "stream",
     "text": [
      "The Class Variable Value is 1\n"
     ]
    }
   ],
   "source": [
    "my_class = MyClass()\n",
    "print(my_class.printClassVariable())"
   ]
  },
  {
   "cell_type": "code",
   "execution_count": 40,
   "id": "013f1edc",
   "metadata": {},
   "outputs": [
    {
     "name": "stdout",
     "output_type": "stream",
     "text": [
      "The Class Variable Value is 2\n"
     ]
    }
   ],
   "source": [
    "my_class = MyClass()\n",
    "print(my_class.printClassVariable())"
   ]
  },
  {
   "cell_type": "code",
   "execution_count": 41,
   "id": "774010c3",
   "metadata": {},
   "outputs": [
    {
     "name": "stdout",
     "output_type": "stream",
     "text": [
      "The Class Variable Value is 3\n"
     ]
    }
   ],
   "source": [
    "my_class = MyClass()\n",
    "print(my_class.printClassVariable())"
   ]
  },
  {
   "cell_type": "code",
   "execution_count": 42,
   "id": "89f0cbba",
   "metadata": {},
   "outputs": [
    {
     "name": "stdout",
     "output_type": "stream",
     "text": [
      "The Class Variable Value is 4\n",
      "The Class Variable Value is 5\n",
      "The Class Variable Value is 6\n",
      "The Class Variable Value is 7\n",
      "The Class Variable Value is 8\n",
      "The Class Variable Value is 9\n"
     ]
    }
   ],
   "source": [
    "for _ in range(6):\n",
    "    my_class = MyClass()\n",
    "    print(my_class.printClassVariable())"
   ]
  },
  {
   "cell_type": "markdown",
   "id": "a6b0bac7",
   "metadata": {},
   "source": [
    "# Example Two"
   ]
  },
  {
   "cell_type": "code",
   "execution_count": 43,
   "id": "08b89eba",
   "metadata": {},
   "outputs": [],
   "source": [
    "class MyClass:\n",
    "    class_var = 10\n",
    "    def __init__(self, a):\n",
    "        self.a = a\n",
    "    def addTo(self):\n",
    "        return f\"Value: {self.a + MyClass.class_var}\"\n",
    "    @staticmethod\n",
    "    def addThe(bn):\n",
    "        return f\"Value: {bn + MyClass.class_var}\"\n",
    "    @classmethod\n",
    "    def addFour(cls):\n",
    "        return f\"{MyClass.class_var}\""
   ]
  },
  {
   "cell_type": "code",
   "execution_count": 44,
   "id": "a055f9f3",
   "metadata": {},
   "outputs": [],
   "source": [
    "my_class_temp = MyClass(30)"
   ]
  },
  {
   "cell_type": "code",
   "execution_count": 45,
   "id": "b1447d32",
   "metadata": {},
   "outputs": [
    {
     "name": "stdout",
     "output_type": "stream",
     "text": [
      "Value: 40\n"
     ]
    }
   ],
   "source": [
    "print(my_class_temp.addTo())"
   ]
  },
  {
   "cell_type": "code",
   "execution_count": 46,
   "id": "e8d4a8bb",
   "metadata": {},
   "outputs": [
    {
     "name": "stdout",
     "output_type": "stream",
     "text": [
      "Value: 88\n"
     ]
    }
   ],
   "source": [
    "print(my_class_temp.addThe(78))"
   ]
  },
  {
   "cell_type": "code",
   "execution_count": 47,
   "id": "a3c8cb10",
   "metadata": {},
   "outputs": [
    {
     "name": "stdout",
     "output_type": "stream",
     "text": [
      "10\n"
     ]
    }
   ],
   "source": [
    "print(my_class_temp.addFour())"
   ]
  },
  {
   "cell_type": "code",
   "execution_count": null,
   "id": "5fc61349",
   "metadata": {},
   "outputs": [],
   "source": []
  }
 ],
 "metadata": {
  "kernelspec": {
   "display_name": "Python 3 (ipykernel)",
   "language": "python",
   "name": "python3"
  },
  "language_info": {
   "codemirror_mode": {
    "name": "ipython",
    "version": 3
   },
   "file_extension": ".py",
   "mimetype": "text/x-python",
   "name": "python",
   "nbconvert_exporter": "python",
   "pygments_lexer": "ipython3",
   "version": "3.9.12"
  }
 },
 "nbformat": 4,
 "nbformat_minor": 5
}
