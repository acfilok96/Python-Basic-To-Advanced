{
 "cells": [
  {
   "cell_type": "markdown",
   "id": "70a96f58",
   "metadata": {},
   "source": [
    "# Instance vs class variable"
   ]
  },
  {
   "cell_type": "markdown",
   "id": "e2a38a15",
   "metadata": {},
   "source": [
    "In Python, variable can be defined at the class level or at the \n",
    "instance level. Understanding the difference between these types\n",
    "of variables is crucial for writing efficient and maintainable\n",
    "code."
   ]
  },
  {
   "cell_type": "markdown",
   "id": "2276cdcf",
   "metadata": {},
   "source": [
    "# Class variable"
   ]
  },
  {
   "cell_type": "markdown",
   "id": "41ae46bb",
   "metadata": {},
   "source": [
    "Class variables are defined at the class level and are shared\n",
    "among all instances of the class. They are defined outside of\n",
    "any method and are usually used to store information that is\n",
    "common to all instances of the class. For example, a class\n",
    "variable can be used to store the number of instances of a\n",
    "class that have been created."
   ]
  },
  {
   "cell_type": "markdown",
   "id": "b506e623",
   "metadata": {},
   "source": [
    "# Example One"
   ]
  },
  {
   "cell_type": "code",
   "execution_count": 7,
   "id": "ce02c658",
   "metadata": {},
   "outputs": [],
   "source": [
    "class MyClass:\n",
    "    class_var = 0\n",
    "    def __init__(self):\n",
    "        MyClass.class_var += 1\n",
    "    def printClassVariable(self):\n",
    "        return f\"The Class Variable Value is {MyClass.class_var}\""
   ]
  },
  {
   "cell_type": "code",
   "execution_count": 8,
   "id": "339c9f4c",
   "metadata": {},
   "outputs": [
    {
     "name": "stdout",
     "output_type": "stream",
     "text": [
      "The Class Variable Value is 1\n"
     ]
    }
   ],
   "source": [
    "my_class = MyClass()\n",
    "print(my_class.printClassVariable())"
   ]
  },
  {
   "cell_type": "code",
   "execution_count": 9,
   "id": "15854ae5",
   "metadata": {},
   "outputs": [
    {
     "name": "stdout",
     "output_type": "stream",
     "text": [
      "The Class Variable Value is 2\n"
     ]
    }
   ],
   "source": [
    "my_class = MyClass()\n",
    "print(my_class.printClassVariable())"
   ]
  },
  {
   "cell_type": "code",
   "execution_count": 10,
   "id": "39761810",
   "metadata": {},
   "outputs": [
    {
     "name": "stdout",
     "output_type": "stream",
     "text": [
      "The Class Variable Value is 3\n"
     ]
    }
   ],
   "source": [
    "my_class = MyClass()\n",
    "print(my_class.printClassVariable())"
   ]
  },
  {
   "cell_type": "code",
   "execution_count": 11,
   "id": "15ca5d0f",
   "metadata": {},
   "outputs": [
    {
     "name": "stdout",
     "output_type": "stream",
     "text": [
      "The Class Variable Value is 4\n",
      "The Class Variable Value is 5\n",
      "The Class Variable Value is 6\n",
      "The Class Variable Value is 7\n",
      "The Class Variable Value is 8\n",
      "The Class Variable Value is 9\n"
     ]
    }
   ],
   "source": [
    "for _ in range(6):\n",
    "    my_class = MyClass()\n",
    "    print(my_class.printClassVariable())"
   ]
  },
  {
   "cell_type": "markdown",
   "id": "5b6952a4",
   "metadata": {},
   "source": [
    "# Example Two"
   ]
  },
  {
   "cell_type": "code",
   "execution_count": 12,
   "id": "53d9a1a0",
   "metadata": {},
   "outputs": [],
   "source": [
    "class MyClass:\n",
    "    class_var = 10\n",
    "    def __init__(self, a):\n",
    "        self.a = a\n",
    "    def addTo(self):\n",
    "        return f\"Value: {self.a + MyClass.class_var}\"\n",
    "    @staticmethod\n",
    "    def addThe(bn):\n",
    "        return f\"Value: {bn + MyClass.class_var}\"\n",
    "    @classmethod\n",
    "    def addFour(cls,bn):\n",
    "        return f\"Value: {cls.bn + MyClass.class_var}\""
   ]
  },
  {
   "cell_type": "code",
   "execution_count": 13,
   "id": "e56349e7",
   "metadata": {},
   "outputs": [],
   "source": [
    "my_class_temp = MyClass(30)"
   ]
  },
  {
   "cell_type": "code",
   "execution_count": 14,
   "id": "cb04eb18",
   "metadata": {},
   "outputs": [
    {
     "name": "stdout",
     "output_type": "stream",
     "text": [
      "Value: 40\n"
     ]
    }
   ],
   "source": [
    "print(my_class_temp.addTo())"
   ]
  },
  {
   "cell_type": "code",
   "execution_count": 15,
   "id": "ed2ecabc",
   "metadata": {},
   "outputs": [
    {
     "name": "stdout",
     "output_type": "stream",
     "text": [
      "Value: 88\n"
     ]
    }
   ],
   "source": [
    "print(my_class_temp.addThe(78))"
   ]
  },
  {
   "cell_type": "code",
   "execution_count": null,
   "id": "71a5af24",
   "metadata": {},
   "outputs": [],
   "source": [
    "print(my_class_temp.addThe(78))"
   ]
  }
 ],
 "metadata": {
  "kernelspec": {
   "display_name": "Python 3 (ipykernel)",
   "language": "python",
   "name": "python3"
  },
  "language_info": {
   "codemirror_mode": {
    "name": "ipython",
    "version": 3
   },
   "file_extension": ".py",
   "mimetype": "text/x-python",
   "name": "python",
   "nbconvert_exporter": "python",
   "pygments_lexer": "ipython3",
   "version": "3.9.12"
  }
 },
 "nbformat": 4,
 "nbformat_minor": 5
}
